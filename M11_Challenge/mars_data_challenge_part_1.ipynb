{
 "cells": [
  {
   "cell_type": "code",
   "execution_count": 2,
   "id": "1ee4b93c",
   "metadata": {},
   "outputs": [],
   "source": [
    "# Dependencies\n",
    "from splinter import Browser\n",
    "from bs4 import BeautifulSoup as soup\n",
    "from webdriver_manager.chrome import ChromeDriverManager"
   ]
  },
  {
   "cell_type": "code",
   "execution_count": 3,
   "id": "4dee20fe",
   "metadata": {},
   "outputs": [],
   "source": [
    "# Set up Splinter (executable path)\n",
    "executable_path = {'executable_path': ChromeDriverManager().install()}\n",
    "browser = Browser('chrome', **executable_path, headless=False)"
   ]
  },
  {
   "cell_type": "code",
   "execution_count": 4,
   "id": "0284ed5c",
   "metadata": {},
   "outputs": [],
   "source": [
    "# Visit mars news\n",
    "url = 'https://redplanetscience.com'\n",
    "browser.visit(url)"
   ]
  },
  {
   "cell_type": "code",
   "execution_count": 52,
   "id": "d40ea1b4",
   "metadata": {},
   "outputs": [],
   "source": [
    "# Parse through HTML Data\n",
    "html = browser.html\n",
    "html_soup = soup(html,'html.parser')"
   ]
  },
  {
   "cell_type": "code",
   "execution_count": 57,
   "id": "8dff1b69",
   "metadata": {},
   "outputs": [],
   "source": [
    "# Initialize mars_news list where the dictionaries will be stored\n",
    "mars_news = []\n",
    "\n",
    "# Scarpe list_texts, each of which contain title/summary pairs\n",
    "list_texts = html_soup.find_all('div', class_='list_text')\n",
    "\n",
    "# Iterate through each of the list_texts \n",
    "for x in list_texts:\n",
    "    \n",
    "    # initialize dictionary where title/summary will be stored\n",
    "    article = {}\n",
    "    \n",
    "    # scrape the title and summary\n",
    "    title = x.find('div', class_='content_title').text\n",
    "    summary = x.find('div', class_='article_teaser_body').text\n",
    "    \n",
    "    # store the title and summary in article dictionary\n",
    "    article['title'] = title\n",
    "    article['preview'] = summary\n",
    "    \n",
    "    # append article dictionary to the mars_news list\n",
    "    mars_news.append(article)"
   ]
  },
  {
   "cell_type": "code",
   "execution_count": 64,
   "id": "49ce06a0",
   "metadata": {},
   "outputs": [
    {
     "data": {
      "text/plain": [
       "[{'title': \"Air Deliveries Bring NASA's Perseverance Mars Rover Closer to Launch\",\n",
       "  'preview': \"A NASA Wallops Flight Facility cargo plane transported more than two tons of equipment — including the rover's sample collection tubes — to Florida for this summer's liftoff.\"},\n",
       " {'title': \"NASA's InSight Flexes Its Arm While Its 'Mole' Hits Pause\",\n",
       "  'preview': \"Now that the lander's robotic arm has helped the mole get underground, it will resume science activities that have been on hold.\"},\n",
       " {'title': \"NASA's New Mars Rover Will Use X-Rays to Hunt Fossils\",\n",
       "  'preview': \"PIXL, an instrument on the end of the Perseverance rover's arm, will search for chemical fingerprints left by ancient microbes.\"},\n",
       " {'title': \"NASA's Curiosity Rover Finds an Ancient Oasis on Mars\",\n",
       "  'preview': \"New evidence suggests salty, shallow ponds once dotted a Martian crater — a sign of the planet's drying climate.\"},\n",
       " {'title': \"3 Things We've Learned From NASA's Mars InSight \",\n",
       "  'preview': 'Scientists are finding new mysteries since the geophysics mission landed two years ago.'},\n",
       " {'title': \"NASA's Mars Perseverance Rover Passes Flight Readiness Review\",\n",
       "  'preview': \"\\u200bThe agency's Mars 2020 mission has one more big prelaunch review – the Launch Readiness Review, on July 27.\"},\n",
       " {'title': \"Mars InSight Lander to Push on Top of the 'Mole'\",\n",
       "  'preview': 'Engineers have a plan for pushing down on the heat probe, which has been stuck at the Martian surface for a year.'},\n",
       " {'title': 'AI Is Helping Scientists Discover Fresh Craters on Mars',\n",
       "  'preview': \"It's the first time machine learning has been used to find previously unknown craters on the Red Planet.\"},\n",
       " {'title': 'NASA Wins Two Emmy Awards for Interactive Mission Coverage',\n",
       "  'preview': \"NASA-JPL's coverage of the Mars InSight landing earns one of the two wins, making this the NASA center's second Emmy.\"},\n",
       " {'title': 'NASA to Broadcast Mars 2020 Perseverance Launch, Prelaunch Activities',\n",
       "  'preview': 'Starting July 27, news activities will cover everything from mission engineering and science to returning samples from Mars to, of course, the launch itself.'},\n",
       " {'title': 'NASA to Reveal Name of Its Next Mars Rover',\n",
       "  'preview': \"After a months-long contest among students to name NASA's newest Mars rover, the agency will reveal the winning name — and the winning student — this Thursday. \"},\n",
       " {'title': \"NASA's Briefcase-Size MarCO Satellite Picks Up Honors\",\n",
       "  'preview': 'The twin spacecraft, the first of their kind to fly into deep space, earn a Laureate from Aviation Week & Space Technology.'},\n",
       " {'title': \"Three New Views of Mars' Moon Phobos\",\n",
       "  'preview': \"Taken with the infrared camera aboard NASA's Odyssey orbiter, they reveal temperature variations on the small moon as it drifts into and out of Mars’ shadow.\"},\n",
       " {'title': 'Mars Scientists Investigate Ancient Life in Australia',\n",
       "  'preview': \"Teams with NASA's Mars 2020 and ESA's ExoMars practiced hunting for fossilized microbial life in the Australian Outback in preparation for their Red Planet missions. \"},\n",
       " {'title': \"NASA's Ingenuity Mars Helicopter Recharges Its Batteries in Flight\",\n",
       "  'preview': 'Headed to the Red Planet with the Perseverance rover, the pioneering helicopter is powered up for the first time in interplanetary space as part of a systems check.'}]"
      ]
     },
     "execution_count": 64,
     "metadata": {},
     "output_type": "execute_result"
    }
   ],
   "source": [
    "# print the list of dictionaries\n",
    "mars_news"
   ]
  },
  {
   "cell_type": "code",
   "execution_count": 65,
   "id": "e10826e2",
   "metadata": {},
   "outputs": [
    {
     "name": "stdout",
     "output_type": "stream",
     "text": [
      "[\n",
      "  {\n",
      "    \"title\": \"Air Deliveries Bring NASA's Perseverance Mars Rover Closer to Launch\",\n",
      "    \"preview\": \"A NASA Wallops Flight Facility cargo plane transported more than two tons of equipment \\u2014 including the rover's sample collection tubes \\u2014 to Florida for this summer's liftoff.\"\n",
      "  },\n",
      "  {\n",
      "    \"title\": \"NASA's InSight Flexes Its Arm While Its 'Mole' Hits Pause\",\n",
      "    \"preview\": \"Now that the lander's robotic arm has helped the mole get underground, it will resume science activities that have been on hold.\"\n",
      "  },\n",
      "  {\n",
      "    \"title\": \"NASA's New Mars Rover Will Use X-Rays to Hunt Fossils\",\n",
      "    \"preview\": \"PIXL, an instrument on the end of the Perseverance rover's arm, will search for chemical fingerprints left by ancient microbes.\"\n",
      "  },\n",
      "  {\n",
      "    \"title\": \"NASA's Curiosity Rover Finds an Ancient Oasis on Mars\",\n",
      "    \"preview\": \"New evidence suggests salty, shallow ponds once dotted a Martian crater \\u2014 a sign of the planet's drying climate.\"\n",
      "  },\n",
      "  {\n",
      "    \"title\": \"3 Things We've Learned From NASA's Mars InSight \",\n",
      "    \"preview\": \"Scientists are finding new mysteries since the geophysics mission landed two years ago.\"\n",
      "  },\n",
      "  {\n",
      "    \"title\": \"NASA's Mars Perseverance Rover Passes Flight Readiness Review\",\n",
      "    \"preview\": \"\\u200bThe agency's Mars 2020 mission has one more big prelaunch review \\u2013 the Launch Readiness Review, on July 27.\"\n",
      "  },\n",
      "  {\n",
      "    \"title\": \"Mars InSight Lander to Push on Top of the 'Mole'\",\n",
      "    \"preview\": \"Engineers have a plan for pushing down on the heat probe, which has been stuck at the Martian surface for a year.\"\n",
      "  },\n",
      "  {\n",
      "    \"title\": \"AI Is Helping Scientists Discover Fresh Craters on Mars\",\n",
      "    \"preview\": \"It's the first time machine learning has been used to find previously unknown craters on the Red Planet.\"\n",
      "  },\n",
      "  {\n",
      "    \"title\": \"NASA Wins Two Emmy Awards for Interactive Mission Coverage\",\n",
      "    \"preview\": \"NASA-JPL's coverage of the Mars InSight landing earns one of the two wins, making this the NASA center's second Emmy.\"\n",
      "  },\n",
      "  {\n",
      "    \"title\": \"NASA to Broadcast Mars 2020 Perseverance Launch, Prelaunch Activities\",\n",
      "    \"preview\": \"Starting July 27, news activities will cover everything from mission engineering and science to returning samples from Mars to, of course, the launch itself.\"\n",
      "  },\n",
      "  {\n",
      "    \"title\": \"NASA to Reveal Name of Its Next Mars Rover\",\n",
      "    \"preview\": \"After a months-long contest among students to name NASA's newest Mars rover, the agency will reveal the winning name \\u2014 and the winning student \\u2014 this Thursday. \"\n",
      "  },\n",
      "  {\n",
      "    \"title\": \"NASA's Briefcase-Size MarCO Satellite Picks Up Honors\",\n",
      "    \"preview\": \"The twin spacecraft, the first of their kind to fly into deep space, earn a Laureate from Aviation Week & Space Technology.\"\n",
      "  },\n",
      "  {\n",
      "    \"title\": \"Three New Views of Mars' Moon Phobos\",\n",
      "    \"preview\": \"Taken with the infrared camera aboard NASA's Odyssey orbiter, they reveal temperature variations on the small moon as it drifts into and out of Mars\\u2019 shadow.\"\n",
      "  },\n",
      "  {\n",
      "    \"title\": \"Mars Scientists Investigate Ancient Life in Australia\",\n",
      "    \"preview\": \"Teams with NASA's Mars 2020 and ESA's ExoMars practiced hunting for fossilized microbial life in the Australian Outback in preparation for their Red Planet missions. \"\n",
      "  },\n",
      "  {\n",
      "    \"title\": \"NASA's Ingenuity Mars Helicopter Recharges Its Batteries in Flight\",\n",
      "    \"preview\": \"Headed to the Red Planet with the Perseverance rover, the pioneering helicopter is powered up for the first time in interplanetary space as part of a systems check.\"\n",
      "  }\n",
      "]\n"
     ]
    }
   ],
   "source": [
    "# Optional: convert to JSON\n",
    "import json\n",
    "deliverable = json.dumps(mars_news, indent=2)\n",
    "print(deliverable)"
   ]
  },
  {
   "cell_type": "code",
   "execution_count": null,
   "id": "49aa23da",
   "metadata": {},
   "outputs": [],
   "source": []
  }
 ],
 "metadata": {
  "kernelspec": {
   "display_name": "Python 3 (ipykernel)",
   "language": "python",
   "name": "python3"
  },
  "language_info": {
   "codemirror_mode": {
    "name": "ipython",
    "version": 3
   },
   "file_extension": ".py",
   "mimetype": "text/x-python",
   "name": "python",
   "nbconvert_exporter": "python",
   "pygments_lexer": "ipython3",
   "version": "3.9.13"
  }
 },
 "nbformat": 4,
 "nbformat_minor": 5
}
